{
 "cells": [
  {
   "cell_type": "markdown",
   "id": "6e30847b-6e88-410f-9a3f-bbeed37d526c",
   "metadata": {},
   "source": [
    "# EDA: Sales Performance Report DQLab Store\n",
    "Link: https://www.kaggle.com/datasets/dhawyfarrasputra/sales-performance-report-dqlab-store"
   ]
  },
  {
   "cell_type": "code",
   "execution_count": 259,
   "id": "42d1f4ad-72a1-4ed5-b804-58894b33618a",
   "metadata": {},
   "outputs": [],
   "source": [
    "import pandas as pd\n",
    "import numpy as np\n",
    "import seaborn as sns\n",
    "import matplotlib.pyplot as plt"
   ]
  },
  {
   "cell_type": "code",
   "execution_count": 260,
   "id": "f1588bbe-c851-4ecd-b97e-0e804da6960f",
   "metadata": {},
   "outputs": [
    {
     "data": {
      "text/html": [
       "<div>\n",
       "<style scoped>\n",
       "    .dataframe tbody tr th:only-of-type {\n",
       "        vertical-align: middle;\n",
       "    }\n",
       "\n",
       "    .dataframe tbody tr th {\n",
       "        vertical-align: top;\n",
       "    }\n",
       "\n",
       "    .dataframe thead th {\n",
       "        text-align: right;\n",
       "    }\n",
       "</style>\n",
       "<table border=\"1\" class=\"dataframe\">\n",
       "  <thead>\n",
       "    <tr style=\"text-align: right;\">\n",
       "      <th></th>\n",
       "      <th>order_id | order_status    | customer               | order_date | order_quantity | sales     | discount | discount_value | product_category | product_sub_category           |</th>\n",
       "    </tr>\n",
       "  </thead>\n",
       "  <tbody>\n",
       "    <tr>\n",
       "      <th>0</th>\n",
       "      <td>+----------+-----------------+----------------...</td>\n",
       "    </tr>\n",
       "    <tr>\n",
       "      <th>1</th>\n",
       "      <td>|        3 | Order Finished  | Muhammed MacInt...</td>\n",
       "    </tr>\n",
       "    <tr>\n",
       "      <th>2</th>\n",
       "      <td>|      293 | Order Finished  | Barry French   ...</td>\n",
       "    </tr>\n",
       "    <tr>\n",
       "      <th>3</th>\n",
       "      <td>|      483 | Order Finished  | Clay Rozendal  ...</td>\n",
       "    </tr>\n",
       "    <tr>\n",
       "      <th>4</th>\n",
       "      <td>|      515 | Order Finished  | Carlos Soltero ...</td>\n",
       "    </tr>\n",
       "  </tbody>\n",
       "</table>\n",
       "</div>"
      ],
      "text/plain": [
       "  order_id | order_status    | customer               | order_date | order_quantity | sales     | discount | discount_value | product_category | product_sub_category           |\n",
       "0  +----------+-----------------+----------------...                                                                                                                             \n",
       "1  |        3 | Order Finished  | Muhammed MacInt...                                                                                                                             \n",
       "2  |      293 | Order Finished  | Barry French   ...                                                                                                                             \n",
       "3  |      483 | Order Finished  | Clay Rozendal  ...                                                                                                                             \n",
       "4  |      515 | Order Finished  | Carlos Soltero ...                                                                                                                             "
      ]
     },
     "execution_count": 260,
     "metadata": {},
     "output_type": "execute_result"
    }
   ],
   "source": [
    "#loading the data into a dataframe\n",
    "df = pd.read_csv('/Users/conniechung/Downloads/raw_data.csv')\n",
    "df.head()"
   ]
  },
  {
   "cell_type": "markdown",
   "id": "59a63f8b-d3e4-46fc-8890-dd5a2e2f1cca",
   "metadata": {},
   "source": [
    "## Cleaning the data"
   ]
  },
  {
   "cell_type": "code",
   "execution_count": 261,
   "id": "59d6c24d-70cf-4474-b8bb-99ec9651c47a",
   "metadata": {
    "scrolled": true
   },
   "outputs": [
    {
     "data": {
      "text/html": [
       "<div>\n",
       "<style scoped>\n",
       "    .dataframe tbody tr th:only-of-type {\n",
       "        vertical-align: middle;\n",
       "    }\n",
       "\n",
       "    .dataframe tbody tr th {\n",
       "        vertical-align: top;\n",
       "    }\n",
       "\n",
       "    .dataframe thead th {\n",
       "        text-align: right;\n",
       "    }\n",
       "</style>\n",
       "<table border=\"1\" class=\"dataframe\">\n",
       "  <thead>\n",
       "    <tr style=\"text-align: right;\">\n",
       "      <th></th>\n",
       "      <th>order_id | order_status    | customer               | order_date | order_quantity | sales     | discount | discount_value | product_category | product_sub_category           |</th>\n",
       "    </tr>\n",
       "  </thead>\n",
       "  <tbody>\n",
       "    <tr>\n",
       "      <th>0</th>\n",
       "      <td>|        3 | Order Finished  | Muhammed MacInt...</td>\n",
       "    </tr>\n",
       "    <tr>\n",
       "      <th>1</th>\n",
       "      <td>|      293 | Order Finished  | Barry French   ...</td>\n",
       "    </tr>\n",
       "    <tr>\n",
       "      <th>2</th>\n",
       "      <td>|      483 | Order Finished  | Clay Rozendal  ...</td>\n",
       "    </tr>\n",
       "    <tr>\n",
       "      <th>3</th>\n",
       "      <td>|      515 | Order Finished  | Carlos Soltero ...</td>\n",
       "    </tr>\n",
       "    <tr>\n",
       "      <th>4</th>\n",
       "      <td>|      613 | Order Finished  | Carl Jackson   ...</td>\n",
       "    </tr>\n",
       "  </tbody>\n",
       "</table>\n",
       "</div>"
      ],
      "text/plain": [
       "  order_id | order_status    | customer               | order_date | order_quantity | sales     | discount | discount_value | product_category | product_sub_category           |\n",
       "0  |        3 | Order Finished  | Muhammed MacInt...                                                                                                                             \n",
       "1  |      293 | Order Finished  | Barry French   ...                                                                                                                             \n",
       "2  |      483 | Order Finished  | Clay Rozendal  ...                                                                                                                             \n",
       "3  |      515 | Order Finished  | Carlos Soltero ...                                                                                                                             \n",
       "4  |      613 | Order Finished  | Carl Jackson   ...                                                                                                                             "
      ]
     },
     "execution_count": 261,
     "metadata": {},
     "output_type": "execute_result"
    }
   ],
   "source": [
    "#dropping thee first row\n",
    "df = df.iloc[1:].reset_index(drop=True)\n",
    "df.head()"
   ]
  },
  {
   "cell_type": "code",
   "execution_count": 262,
   "id": "7118dea9-8424-4613-938e-559c8bc1d186",
   "metadata": {},
   "outputs": [
    {
     "data": {
      "text/html": [
       "<div>\n",
       "<style scoped>\n",
       "    .dataframe tbody tr th:only-of-type {\n",
       "        vertical-align: middle;\n",
       "    }\n",
       "\n",
       "    .dataframe tbody tr th {\n",
       "        vertical-align: top;\n",
       "    }\n",
       "\n",
       "    .dataframe thead th {\n",
       "        text-align: right;\n",
       "    }\n",
       "</style>\n",
       "<table border=\"1\" class=\"dataframe\">\n",
       "  <thead>\n",
       "    <tr style=\"text-align: right;\">\n",
       "      <th></th>\n",
       "      <th>col</th>\n",
       "    </tr>\n",
       "  </thead>\n",
       "  <tbody>\n",
       "    <tr>\n",
       "      <th>0</th>\n",
       "      <td>|        3 | Order Finished  | Muhammed MacInt...</td>\n",
       "    </tr>\n",
       "    <tr>\n",
       "      <th>1</th>\n",
       "      <td>|      293 | Order Finished  | Barry French   ...</td>\n",
       "    </tr>\n",
       "    <tr>\n",
       "      <th>2</th>\n",
       "      <td>|      483 | Order Finished  | Clay Rozendal  ...</td>\n",
       "    </tr>\n",
       "    <tr>\n",
       "      <th>3</th>\n",
       "      <td>|      515 | Order Finished  | Carlos Soltero ...</td>\n",
       "    </tr>\n",
       "    <tr>\n",
       "      <th>4</th>\n",
       "      <td>|      613 | Order Finished  | Carl Jackson   ...</td>\n",
       "    </tr>\n",
       "  </tbody>\n",
       "</table>\n",
       "</div>"
      ],
      "text/plain": [
       "                                                 col\n",
       "0  |        3 | Order Finished  | Muhammed MacInt...\n",
       "1  |      293 | Order Finished  | Barry French   ...\n",
       "2  |      483 | Order Finished  | Clay Rozendal  ...\n",
       "3  |      515 | Order Finished  | Carlos Soltero ...\n",
       "4  |      613 | Order Finished  | Carl Jackson   ..."
      ]
     },
     "execution_count": 262,
     "metadata": {},
     "output_type": "execute_result"
    }
   ],
   "source": [
    "#changing the column name to something more manageable for time-being\n",
    "df_1 = pd.DataFrame()\n",
    "df_1['col']=df[' order_id | order_status    | customer               | order_date | order_quantity | sales     | discount | discount_value | product_category | product_sub_category           |']\n",
    "df_1.head()"
   ]
  },
  {
   "cell_type": "code",
   "execution_count": 263,
   "id": "a234e17b-cbb4-4e2d-ad5a-603a25ba18aa",
   "metadata": {},
   "outputs": [
    {
     "data": {
      "text/html": [
       "<div>\n",
       "<style scoped>\n",
       "    .dataframe tbody tr th:only-of-type {\n",
       "        vertical-align: middle;\n",
       "    }\n",
       "\n",
       "    .dataframe tbody tr th {\n",
       "        vertical-align: top;\n",
       "    }\n",
       "\n",
       "    .dataframe thead th {\n",
       "        text-align: right;\n",
       "    }\n",
       "</style>\n",
       "<table border=\"1\" class=\"dataframe\">\n",
       "  <thead>\n",
       "    <tr style=\"text-align: right;\">\n",
       "      <th></th>\n",
       "      <th>col</th>\n",
       "    </tr>\n",
       "  </thead>\n",
       "  <tbody>\n",
       "    <tr>\n",
       "      <th>0</th>\n",
       "      <td>3 | Order Finished  | Muhammed MacInty...</td>\n",
       "    </tr>\n",
       "    <tr>\n",
       "      <th>1</th>\n",
       "      <td>293 | Order Finished  | Barry French    ...</td>\n",
       "    </tr>\n",
       "    <tr>\n",
       "      <th>2</th>\n",
       "      <td>483 | Order Finished  | Clay Rozendal   ...</td>\n",
       "    </tr>\n",
       "    <tr>\n",
       "      <th>3</th>\n",
       "      <td>515 | Order Finished  | Carlos Soltero  ...</td>\n",
       "    </tr>\n",
       "    <tr>\n",
       "      <th>4</th>\n",
       "      <td>613 | Order Finished  | Carl Jackson    ...</td>\n",
       "    </tr>\n",
       "  </tbody>\n",
       "</table>\n",
       "</div>"
      ],
      "text/plain": [
       "                                                 col\n",
       "0          3 | Order Finished  | Muhammed MacInty...\n",
       "1        293 | Order Finished  | Barry French    ...\n",
       "2        483 | Order Finished  | Clay Rozendal   ...\n",
       "3        515 | Order Finished  | Carlos Soltero  ...\n",
       "4        613 | Order Finished  | Carl Jackson    ..."
      ]
     },
     "execution_count": 263,
     "metadata": {},
     "output_type": "execute_result"
    }
   ],
   "source": [
    "#removing the leading and trailing '|'\n",
    "df_1['col'] = df_1['col'].str.strip().str.lstrip('|').str.rstrip('|')\n",
    "df_1.head()"
   ]
  },
  {
   "cell_type": "code",
   "execution_count": 264,
   "id": "5790bd58-0955-4538-99b1-f5818e400c07",
   "metadata": {},
   "outputs": [
    {
     "data": {
      "text/html": [
       "<div>\n",
       "<style scoped>\n",
       "    .dataframe tbody tr th:only-of-type {\n",
       "        vertical-align: middle;\n",
       "    }\n",
       "\n",
       "    .dataframe tbody tr th {\n",
       "        vertical-align: top;\n",
       "    }\n",
       "\n",
       "    .dataframe thead th {\n",
       "        text-align: right;\n",
       "    }\n",
       "</style>\n",
       "<table border=\"1\" class=\"dataframe\">\n",
       "  <thead>\n",
       "    <tr style=\"text-align: right;\">\n",
       "      <th></th>\n",
       "      <th>0</th>\n",
       "      <th>1</th>\n",
       "      <th>2</th>\n",
       "      <th>3</th>\n",
       "      <th>4</th>\n",
       "      <th>5</th>\n",
       "      <th>6</th>\n",
       "      <th>7</th>\n",
       "      <th>8</th>\n",
       "      <th>9</th>\n",
       "    </tr>\n",
       "  </thead>\n",
       "  <tbody>\n",
       "    <tr>\n",
       "      <th>0</th>\n",
       "      <td>3</td>\n",
       "      <td>Order Finished</td>\n",
       "      <td>Muhammed MacIntyre</td>\n",
       "      <td>2010-10-13</td>\n",
       "      <td>6</td>\n",
       "      <td>523080</td>\n",
       "      <td>0.04</td>\n",
       "      <td>20923</td>\n",
       "      <td>Office Supplies</td>\n",
       "      <td>Storage &amp; Organization</td>\n",
       "    </tr>\n",
       "    <tr>\n",
       "      <th>1</th>\n",
       "      <td>293</td>\n",
       "      <td>Order Finished</td>\n",
       "      <td>Barry French</td>\n",
       "      <td>2012-10-01</td>\n",
       "      <td>49</td>\n",
       "      <td>20246040</td>\n",
       "      <td>0.07</td>\n",
       "      <td>1417223</td>\n",
       "      <td>Office Supplies</td>\n",
       "      <td>Appliances</td>\n",
       "    </tr>\n",
       "    <tr>\n",
       "      <th>2</th>\n",
       "      <td>483</td>\n",
       "      <td>Order Finished</td>\n",
       "      <td>Clay Rozendal</td>\n",
       "      <td>2011-07-10</td>\n",
       "      <td>30</td>\n",
       "      <td>9931519</td>\n",
       "      <td>0.08</td>\n",
       "      <td>794522</td>\n",
       "      <td>Technology</td>\n",
       "      <td>Telephones and Communication</td>\n",
       "    </tr>\n",
       "    <tr>\n",
       "      <th>3</th>\n",
       "      <td>515</td>\n",
       "      <td>Order Finished</td>\n",
       "      <td>Carlos Soltero</td>\n",
       "      <td>2010-08-28</td>\n",
       "      <td>19</td>\n",
       "      <td>788540</td>\n",
       "      <td>0.08</td>\n",
       "      <td>63083</td>\n",
       "      <td>Office Supplies</td>\n",
       "      <td>Appliances</td>\n",
       "    </tr>\n",
       "    <tr>\n",
       "      <th>4</th>\n",
       "      <td>613</td>\n",
       "      <td>Order Finished</td>\n",
       "      <td>Carl Jackson</td>\n",
       "      <td>2011-06-17</td>\n",
       "      <td>12</td>\n",
       "      <td>187080</td>\n",
       "      <td>0.03</td>\n",
       "      <td>5612</td>\n",
       "      <td>Office Supplies</td>\n",
       "      <td>Binders and Binder Accessories</td>\n",
       "    </tr>\n",
       "  </tbody>\n",
       "</table>\n",
       "</div>"
      ],
      "text/plain": [
       "            0                  1                         2             3  \\\n",
       "0          3    Order Finished     Muhammed MacIntyre        2010-10-13    \n",
       "1        293    Order Finished     Barry French              2012-10-01    \n",
       "2        483    Order Finished     Clay Rozendal             2011-07-10    \n",
       "3        515    Order Finished     Carlos Soltero            2010-08-28    \n",
       "4        613    Order Finished     Carl Jackson              2011-06-17    \n",
       "\n",
       "                  4            5           6                 7  \\\n",
       "0                6       523080        0.04             20923    \n",
       "1               49     20246040        0.07           1417223    \n",
       "2               30      9931519        0.08            794522    \n",
       "3               19       788540        0.08             63083    \n",
       "4               12       187080        0.03              5612    \n",
       "\n",
       "                    8                                 9  \n",
       "0   Office Supplies     Storage & Organization           \n",
       "1   Office Supplies     Appliances                       \n",
       "2   Technology          Telephones and Communication     \n",
       "3   Office Supplies     Appliances                       \n",
       "4   Office Supplies     Binders and Binder Accessories   "
      ]
     },
     "execution_count": 264,
     "metadata": {},
     "output_type": "execute_result"
    }
   ],
   "source": [
    "#splitting up the data into seperate columns\n",
    "df_1 = df_1['col'].str.split('|', expand=True)\n",
    "df_1.head()"
   ]
  },
  {
   "cell_type": "code",
   "execution_count": 265,
   "id": "ba93056e-9af9-4487-9c4b-0e6da9549f74",
   "metadata": {},
   "outputs": [],
   "source": [
    "#renaming the column names\n",
    "df_1.columns = [\n",
    "    'order_id', 'order_status', 'customer', 'order_date',\n",
    "    'order_quantity', 'sales', 'discount', 'discount_value',\n",
    "    'product_category', 'product_sub_category'\n",
    "]"
   ]
  },
  {
   "cell_type": "code",
   "execution_count": 266,
   "id": "c8d5481a-33d6-4d73-8ce7-d3bc81c4ff88",
   "metadata": {
    "scrolled": true
   },
   "outputs": [
    {
     "data": {
      "text/html": [
       "<div>\n",
       "<style scoped>\n",
       "    .dataframe tbody tr th:only-of-type {\n",
       "        vertical-align: middle;\n",
       "    }\n",
       "\n",
       "    .dataframe tbody tr th {\n",
       "        vertical-align: top;\n",
       "    }\n",
       "\n",
       "    .dataframe thead th {\n",
       "        text-align: right;\n",
       "    }\n",
       "</style>\n",
       "<table border=\"1\" class=\"dataframe\">\n",
       "  <thead>\n",
       "    <tr style=\"text-align: right;\">\n",
       "      <th></th>\n",
       "      <th>order_id</th>\n",
       "      <th>order_status</th>\n",
       "      <th>customer</th>\n",
       "      <th>order_date</th>\n",
       "      <th>order_quantity</th>\n",
       "      <th>sales</th>\n",
       "      <th>discount</th>\n",
       "      <th>discount_value</th>\n",
       "      <th>product_category</th>\n",
       "      <th>product_sub_category</th>\n",
       "    </tr>\n",
       "  </thead>\n",
       "  <tbody>\n",
       "    <tr>\n",
       "      <th>0</th>\n",
       "      <td>3</td>\n",
       "      <td>Order Finished</td>\n",
       "      <td>Muhammed MacIntyre</td>\n",
       "      <td>2010-10-13</td>\n",
       "      <td>6</td>\n",
       "      <td>523080</td>\n",
       "      <td>0.04</td>\n",
       "      <td>20923</td>\n",
       "      <td>Office Supplies</td>\n",
       "      <td>Storage &amp; Organization</td>\n",
       "    </tr>\n",
       "    <tr>\n",
       "      <th>1</th>\n",
       "      <td>293</td>\n",
       "      <td>Order Finished</td>\n",
       "      <td>Barry French</td>\n",
       "      <td>2012-10-01</td>\n",
       "      <td>49</td>\n",
       "      <td>20246040</td>\n",
       "      <td>0.07</td>\n",
       "      <td>1417223</td>\n",
       "      <td>Office Supplies</td>\n",
       "      <td>Appliances</td>\n",
       "    </tr>\n",
       "    <tr>\n",
       "      <th>2</th>\n",
       "      <td>483</td>\n",
       "      <td>Order Finished</td>\n",
       "      <td>Clay Rozendal</td>\n",
       "      <td>2011-07-10</td>\n",
       "      <td>30</td>\n",
       "      <td>9931519</td>\n",
       "      <td>0.08</td>\n",
       "      <td>794522</td>\n",
       "      <td>Technology</td>\n",
       "      <td>Telephones and Communication</td>\n",
       "    </tr>\n",
       "    <tr>\n",
       "      <th>3</th>\n",
       "      <td>515</td>\n",
       "      <td>Order Finished</td>\n",
       "      <td>Carlos Soltero</td>\n",
       "      <td>2010-08-28</td>\n",
       "      <td>19</td>\n",
       "      <td>788540</td>\n",
       "      <td>0.08</td>\n",
       "      <td>63083</td>\n",
       "      <td>Office Supplies</td>\n",
       "      <td>Appliances</td>\n",
       "    </tr>\n",
       "    <tr>\n",
       "      <th>4</th>\n",
       "      <td>613</td>\n",
       "      <td>Order Finished</td>\n",
       "      <td>Carl Jackson</td>\n",
       "      <td>2011-06-17</td>\n",
       "      <td>12</td>\n",
       "      <td>187080</td>\n",
       "      <td>0.03</td>\n",
       "      <td>5612</td>\n",
       "      <td>Office Supplies</td>\n",
       "      <td>Binders and Binder Accessories</td>\n",
       "    </tr>\n",
       "  </tbody>\n",
       "</table>\n",
       "</div>"
      ],
      "text/plain": [
       "     order_id       order_status                  customer    order_date  \\\n",
       "0          3    Order Finished     Muhammed MacIntyre        2010-10-13    \n",
       "1        293    Order Finished     Barry French              2012-10-01    \n",
       "2        483    Order Finished     Clay Rozendal             2011-07-10    \n",
       "3        515    Order Finished     Carlos Soltero            2010-08-28    \n",
       "4        613    Order Finished     Carl Jackson              2011-06-17    \n",
       "\n",
       "     order_quantity        sales    discount    discount_value  \\\n",
       "0                6       523080        0.04             20923    \n",
       "1               49     20246040        0.07           1417223    \n",
       "2               30      9931519        0.08            794522    \n",
       "3               19       788540        0.08             63083    \n",
       "4               12       187080        0.03              5612    \n",
       "\n",
       "     product_category              product_sub_category  \n",
       "0   Office Supplies     Storage & Organization           \n",
       "1   Office Supplies     Appliances                       \n",
       "2   Technology          Telephones and Communication     \n",
       "3   Office Supplies     Appliances                       \n",
       "4   Office Supplies     Binders and Binder Accessories   "
      ]
     },
     "execution_count": 266,
     "metadata": {},
     "output_type": "execute_result"
    }
   ],
   "source": [
    "df_1.head()"
   ]
  },
  {
   "cell_type": "code",
   "execution_count": 267,
   "id": "44d52024-ed61-48f3-b0e1-2d2fe82c3455",
   "metadata": {
    "scrolled": true
   },
   "outputs": [
    {
     "data": {
      "text/html": [
       "<div>\n",
       "<style scoped>\n",
       "    .dataframe tbody tr th:only-of-type {\n",
       "        vertical-align: middle;\n",
       "    }\n",
       "\n",
       "    .dataframe tbody tr th {\n",
       "        vertical-align: top;\n",
       "    }\n",
       "\n",
       "    .dataframe thead th {\n",
       "        text-align: right;\n",
       "    }\n",
       "</style>\n",
       "<table border=\"1\" class=\"dataframe\">\n",
       "  <thead>\n",
       "    <tr style=\"text-align: right;\">\n",
       "      <th></th>\n",
       "      <th>order_id</th>\n",
       "      <th>order_status</th>\n",
       "      <th>customer</th>\n",
       "      <th>order_date</th>\n",
       "      <th>order_quantity</th>\n",
       "      <th>sales</th>\n",
       "      <th>discount</th>\n",
       "      <th>discount_value</th>\n",
       "      <th>product_category</th>\n",
       "      <th>product_sub_category</th>\n",
       "    </tr>\n",
       "  </thead>\n",
       "  <tbody>\n",
       "    <tr>\n",
       "      <th>5495</th>\n",
       "      <td>52706</td>\n",
       "      <td>Order Finished</td>\n",
       "      <td>Paul Prost</td>\n",
       "      <td>2012-07-09</td>\n",
       "      <td>34</td>\n",
       "      <td>2083320</td>\n",
       "      <td>0.02</td>\n",
       "      <td>41666</td>\n",
       "      <td>Office Supplies</td>\n",
       "      <td>Binders and Binder Accessories</td>\n",
       "    </tr>\n",
       "    <tr>\n",
       "      <th>5496</th>\n",
       "      <td>54279</td>\n",
       "      <td>Order Finished</td>\n",
       "      <td>Lisa DeCherney</td>\n",
       "      <td>2011-07-30</td>\n",
       "      <td>41</td>\n",
       "      <td>20142180</td>\n",
       "      <td>0.1</td>\n",
       "      <td>2014218</td>\n",
       "      <td>Technology</td>\n",
       "      <td>Office Machines</td>\n",
       "    </tr>\n",
       "    <tr>\n",
       "      <th>5497</th>\n",
       "      <td>55558</td>\n",
       "      <td>Order Finished</td>\n",
       "      <td>Philip Brown</td>\n",
       "      <td>2010-08-09</td>\n",
       "      <td>8</td>\n",
       "      <td>2588080</td>\n",
       "      <td>0.05</td>\n",
       "      <td>129404</td>\n",
       "      <td>Furniture</td>\n",
       "      <td>Bookcases</td>\n",
       "    </tr>\n",
       "    <tr>\n",
       "      <th>5498</th>\n",
       "      <td>56581</td>\n",
       "      <td>Order Finished</td>\n",
       "      <td>Lisa DeCherney</td>\n",
       "      <td>2009-02-08</td>\n",
       "      <td>20</td>\n",
       "      <td>4052020</td>\n",
       "      <td>0.1</td>\n",
       "      <td>405202</td>\n",
       "      <td>Furniture</td>\n",
       "      <td>Office Furnishings</td>\n",
       "    </tr>\n",
       "    <tr>\n",
       "      <th>5499</th>\n",
       "      <td>+----------+-----------------+----------------...</td>\n",
       "      <td>None</td>\n",
       "      <td>None</td>\n",
       "      <td>None</td>\n",
       "      <td>None</td>\n",
       "      <td>None</td>\n",
       "      <td>None</td>\n",
       "      <td>None</td>\n",
       "      <td>None</td>\n",
       "      <td>None</td>\n",
       "    </tr>\n",
       "  </tbody>\n",
       "</table>\n",
       "</div>"
      ],
      "text/plain": [
       "                                               order_id       order_status  \\\n",
       "5495                                             52706    Order Finished     \n",
       "5496                                             54279    Order Finished     \n",
       "5497                                             55558    Order Finished     \n",
       "5498                                             56581    Order Finished     \n",
       "5499  +----------+-----------------+----------------...               None   \n",
       "\n",
       "                      customer    order_date    order_quantity        sales  \\\n",
       "5495   Paul Prost                2012-07-09                34      2083320    \n",
       "5496   Lisa DeCherney            2011-07-30                41     20142180    \n",
       "5497   Philip Brown              2010-08-09                 8      2588080    \n",
       "5498   Lisa DeCherney            2009-02-08                20      4052020    \n",
       "5499                      None          None              None         None   \n",
       "\n",
       "        discount    discount_value    product_category  \\\n",
       "5495       0.02             41666    Office Supplies     \n",
       "5496        0.1           2014218    Technology          \n",
       "5497       0.05            129404    Furniture           \n",
       "5498        0.1            405202    Furniture           \n",
       "5499        None              None                None   \n",
       "\n",
       "                  product_sub_category  \n",
       "5495   Binders and Binder Accessories   \n",
       "5496   Office Machines                  \n",
       "5497   Bookcases                        \n",
       "5498   Office Furnishings               \n",
       "5499                              None  "
      ]
     },
     "execution_count": 267,
     "metadata": {},
     "output_type": "execute_result"
    }
   ],
   "source": [
    "df_1.tail()"
   ]
  },
  {
   "cell_type": "code",
   "execution_count": 268,
   "id": "ce224aeb-7a6b-4889-999b-f00d00956bff",
   "metadata": {},
   "outputs": [],
   "source": [
    "#removing the last row\n",
    "df_1 = df_1.iloc[:-1]"
   ]
  },
  {
   "cell_type": "code",
   "execution_count": 269,
   "id": "28689da6-820f-4757-842f-b69fb61beead",
   "metadata": {
    "scrolled": true
   },
   "outputs": [
    {
     "name": "stdout",
     "output_type": "stream",
     "text": [
      "<class 'pandas.core.frame.DataFrame'>\n",
      "RangeIndex: 5499 entries, 0 to 5498\n",
      "Data columns (total 10 columns):\n",
      " #   Column                Non-Null Count  Dtype \n",
      "---  ------                --------------  ----- \n",
      " 0   order_id              5499 non-null   object\n",
      " 1   order_status          5499 non-null   object\n",
      " 2   customer              5499 non-null   object\n",
      " 3   order_date            5499 non-null   object\n",
      " 4   order_quantity        5499 non-null   object\n",
      " 5   sales                 5499 non-null   object\n",
      " 6   discount              5499 non-null   object\n",
      " 7   discount_value        5499 non-null   object\n",
      " 8   product_category      5499 non-null   object\n",
      " 9   product_sub_category  5499 non-null   object\n",
      "dtypes: object(10)\n",
      "memory usage: 429.7+ KB\n"
     ]
    }
   ],
   "source": [
    "df_1.info()"
   ]
  },
  {
   "cell_type": "code",
   "execution_count": 270,
   "id": "1bcc3c41-8ee6-4161-9087-ad206006df5c",
   "metadata": {},
   "outputs": [],
   "source": [
    "#fixing the datatypes\n",
    "\n",
    "#int64: order_id, order_quantity, sales, discount_value\n",
    "df_1['order_id'] = df_1['order_id'].astype(int)\n",
    "df_1['order_quantity'] = df_1['order_quantity'].astype(int)\n",
    "df_1['sales'] = df_1['sales'].astype(int)\n",
    "df_1['discount_value'] = df_1['discount_value'].astype(int)\n",
    "\n",
    "#float: discount\n",
    "df_1['discount'] = df_1['discount'].astype(float)\n",
    "\n",
    "#datetime: order_date\n",
    "df_1['order_date'] = pd.to_datetime(df_1['order_date'])"
   ]
  },
  {
   "cell_type": "code",
   "execution_count": 271,
   "id": "0fc8e201-1895-487b-9fba-2e7445b9b6dd",
   "metadata": {
    "scrolled": true
   },
   "outputs": [
    {
     "name": "stdout",
     "output_type": "stream",
     "text": [
      "<class 'pandas.core.frame.DataFrame'>\n",
      "RangeIndex: 5499 entries, 0 to 5498\n",
      "Data columns (total 10 columns):\n",
      " #   Column                Non-Null Count  Dtype         \n",
      "---  ------                --------------  -----         \n",
      " 0   order_id              5499 non-null   int64         \n",
      " 1   order_status          5499 non-null   object        \n",
      " 2   customer              5499 non-null   object        \n",
      " 3   order_date            5499 non-null   datetime64[ns]\n",
      " 4   order_quantity        5499 non-null   int64         \n",
      " 5   sales                 5499 non-null   int64         \n",
      " 6   discount              5499 non-null   float64       \n",
      " 7   discount_value        5499 non-null   int64         \n",
      " 8   product_category      5499 non-null   object        \n",
      " 9   product_sub_category  5499 non-null   object        \n",
      "dtypes: datetime64[ns](1), float64(1), int64(4), object(4)\n",
      "memory usage: 429.7+ KB\n"
     ]
    }
   ],
   "source": [
    "#datatypes are fixed\n",
    "df_1.info()"
   ]
  },
  {
   "cell_type": "code",
   "execution_count": 272,
   "id": "bc1feed3-67c2-4ee1-b39a-878688bc1561",
   "metadata": {},
   "outputs": [
    {
     "data": {
      "text/html": [
       "<div>\n",
       "<style scoped>\n",
       "    .dataframe tbody tr th:only-of-type {\n",
       "        vertical-align: middle;\n",
       "    }\n",
       "\n",
       "    .dataframe tbody tr th {\n",
       "        vertical-align: top;\n",
       "    }\n",
       "\n",
       "    .dataframe thead th {\n",
       "        text-align: right;\n",
       "    }\n",
       "</style>\n",
       "<table border=\"1\" class=\"dataframe\">\n",
       "  <thead>\n",
       "    <tr style=\"text-align: right;\">\n",
       "      <th></th>\n",
       "      <th>order_id</th>\n",
       "      <th>order_status</th>\n",
       "      <th>customer</th>\n",
       "      <th>order_date</th>\n",
       "      <th>order_quantity</th>\n",
       "      <th>sales</th>\n",
       "      <th>discount</th>\n",
       "      <th>discount_value</th>\n",
       "      <th>product_category</th>\n",
       "      <th>product_sub_category</th>\n",
       "    </tr>\n",
       "  </thead>\n",
       "  <tbody>\n",
       "    <tr>\n",
       "      <th>0</th>\n",
       "      <td>3</td>\n",
       "      <td>Order Finished</td>\n",
       "      <td>Muhammed MacIntyre</td>\n",
       "      <td>2010-10-13</td>\n",
       "      <td>6</td>\n",
       "      <td>523080</td>\n",
       "      <td>0.04</td>\n",
       "      <td>20923</td>\n",
       "      <td>Office Supplies</td>\n",
       "      <td>Storage &amp; Organization</td>\n",
       "    </tr>\n",
       "    <tr>\n",
       "      <th>1</th>\n",
       "      <td>293</td>\n",
       "      <td>Order Finished</td>\n",
       "      <td>Barry French</td>\n",
       "      <td>2012-10-01</td>\n",
       "      <td>49</td>\n",
       "      <td>20246040</td>\n",
       "      <td>0.07</td>\n",
       "      <td>1417223</td>\n",
       "      <td>Office Supplies</td>\n",
       "      <td>Appliances</td>\n",
       "    </tr>\n",
       "    <tr>\n",
       "      <th>2</th>\n",
       "      <td>483</td>\n",
       "      <td>Order Finished</td>\n",
       "      <td>Clay Rozendal</td>\n",
       "      <td>2011-07-10</td>\n",
       "      <td>30</td>\n",
       "      <td>9931519</td>\n",
       "      <td>0.08</td>\n",
       "      <td>794522</td>\n",
       "      <td>Technology</td>\n",
       "      <td>Telephones and Communication</td>\n",
       "    </tr>\n",
       "    <tr>\n",
       "      <th>3</th>\n",
       "      <td>515</td>\n",
       "      <td>Order Finished</td>\n",
       "      <td>Carlos Soltero</td>\n",
       "      <td>2010-08-28</td>\n",
       "      <td>19</td>\n",
       "      <td>788540</td>\n",
       "      <td>0.08</td>\n",
       "      <td>63083</td>\n",
       "      <td>Office Supplies</td>\n",
       "      <td>Appliances</td>\n",
       "    </tr>\n",
       "    <tr>\n",
       "      <th>4</th>\n",
       "      <td>613</td>\n",
       "      <td>Order Finished</td>\n",
       "      <td>Carl Jackson</td>\n",
       "      <td>2011-06-17</td>\n",
       "      <td>12</td>\n",
       "      <td>187080</td>\n",
       "      <td>0.03</td>\n",
       "      <td>5612</td>\n",
       "      <td>Office Supplies</td>\n",
       "      <td>Binders and Binder Accessories</td>\n",
       "    </tr>\n",
       "  </tbody>\n",
       "</table>\n",
       "</div>"
      ],
      "text/plain": [
       "   order_id       order_status                  customer order_date  \\\n",
       "0         3   Order Finished     Muhammed MacIntyre      2010-10-13   \n",
       "1       293   Order Finished     Barry French            2012-10-01   \n",
       "2       483   Order Finished     Clay Rozendal           2011-07-10   \n",
       "3       515   Order Finished     Carlos Soltero          2010-08-28   \n",
       "4       613   Order Finished     Carl Jackson            2011-06-17   \n",
       "\n",
       "   order_quantity     sales  discount  discount_value    product_category  \\\n",
       "0               6    523080      0.04           20923   Office Supplies     \n",
       "1              49  20246040      0.07         1417223   Office Supplies     \n",
       "2              30   9931519      0.08          794522   Technology          \n",
       "3              19    788540      0.08           63083   Office Supplies     \n",
       "4              12    187080      0.03            5612   Office Supplies     \n",
       "\n",
       "               product_sub_category  \n",
       "0   Storage & Organization           \n",
       "1   Appliances                       \n",
       "2   Telephones and Communication     \n",
       "3   Appliances                       \n",
       "4   Binders and Binder Accessories   "
      ]
     },
     "execution_count": 272,
     "metadata": {},
     "output_type": "execute_result"
    }
   ],
   "source": [
    "df_1.head()"
   ]
  },
  {
   "cell_type": "code",
   "execution_count": 359,
   "id": "39c3014e-8076-487e-a7d3-a86d0852f830",
   "metadata": {},
   "outputs": [
    {
     "data": {
      "text/html": [
       "<div>\n",
       "<style scoped>\n",
       "    .dataframe tbody tr th:only-of-type {\n",
       "        vertical-align: middle;\n",
       "    }\n",
       "\n",
       "    .dataframe tbody tr th {\n",
       "        vertical-align: top;\n",
       "    }\n",
       "\n",
       "    .dataframe thead th {\n",
       "        text-align: right;\n",
       "    }\n",
       "</style>\n",
       "<table border=\"1\" class=\"dataframe\">\n",
       "  <thead>\n",
       "    <tr style=\"text-align: right;\">\n",
       "      <th></th>\n",
       "      <th>order_id</th>\n",
       "      <th>order_date</th>\n",
       "      <th>order_quantity</th>\n",
       "      <th>sales</th>\n",
       "      <th>discount</th>\n",
       "      <th>discount_value</th>\n",
       "      <th>month</th>\n",
       "      <th>year</th>\n",
       "      <th>total_revenue</th>\n",
       "    </tr>\n",
       "  </thead>\n",
       "  <tbody>\n",
       "    <tr>\n",
       "      <th>count</th>\n",
       "      <td>5499.000000</td>\n",
       "      <td>5499</td>\n",
       "      <td>5499.000000</td>\n",
       "      <td>5.499000e+03</td>\n",
       "      <td>5499.000000</td>\n",
       "      <td>5.499000e+03</td>\n",
       "      <td>5499.000000</td>\n",
       "      <td>5499.000000</td>\n",
       "      <td>5.499000e+03</td>\n",
       "    </tr>\n",
       "    <tr>\n",
       "      <th>mean</th>\n",
       "      <td>29970.202219</td>\n",
       "      <td>2010-12-28 09:05:59.410801920</td>\n",
       "      <td>25.521549</td>\n",
       "      <td>3.532838e+06</td>\n",
       "      <td>0.049915</td>\n",
       "      <td>1.735048e+05</td>\n",
       "      <td>6.514821</td>\n",
       "      <td>2010.492089</td>\n",
       "      <td>3.359333e+06</td>\n",
       "    </tr>\n",
       "    <tr>\n",
       "      <th>min</th>\n",
       "      <td>3.000000</td>\n",
       "      <td>2009-01-01 00:00:00</td>\n",
       "      <td>1.000000</td>\n",
       "      <td>6.460000e+03</td>\n",
       "      <td>0.000000</td>\n",
       "      <td>0.000000e+00</td>\n",
       "      <td>1.000000</td>\n",
       "      <td>2009.000000</td>\n",
       "      <td>6.072000e+03</td>\n",
       "    </tr>\n",
       "    <tr>\n",
       "      <th>25%</th>\n",
       "      <td>15044.500000</td>\n",
       "      <td>2009-12-24 12:00:00</td>\n",
       "      <td>13.000000</td>\n",
       "      <td>2.826700e+05</td>\n",
       "      <td>0.020000</td>\n",
       "      <td>7.739000e+03</td>\n",
       "      <td>4.000000</td>\n",
       "      <td>2009.000000</td>\n",
       "      <td>2.700805e+05</td>\n",
       "    </tr>\n",
       "    <tr>\n",
       "      <th>50%</th>\n",
       "      <td>29927.000000</td>\n",
       "      <td>2010-12-21 00:00:00</td>\n",
       "      <td>26.000000</td>\n",
       "      <td>8.546400e+05</td>\n",
       "      <td>0.050000</td>\n",
       "      <td>3.191700e+04</td>\n",
       "      <td>7.000000</td>\n",
       "      <td>2010.000000</td>\n",
       "      <td>8.125920e+05</td>\n",
       "    </tr>\n",
       "    <tr>\n",
       "      <th>75%</th>\n",
       "      <td>44646.500000</td>\n",
       "      <td>2012-01-05 00:00:00</td>\n",
       "      <td>38.000000</td>\n",
       "      <td>3.298741e+06</td>\n",
       "      <td>0.080000</td>\n",
       "      <td>1.329000e+05</td>\n",
       "      <td>9.000000</td>\n",
       "      <td>2012.000000</td>\n",
       "      <td>3.126765e+06</td>\n",
       "    </tr>\n",
       "    <tr>\n",
       "      <th>max</th>\n",
       "      <td>59973.000000</td>\n",
       "      <td>2012-12-30 00:00:00</td>\n",
       "      <td>50.000000</td>\n",
       "      <td>1.781221e+08</td>\n",
       "      <td>0.170000</td>\n",
       "      <td>7.441778e+06</td>\n",
       "      <td>12.000000</td>\n",
       "      <td>2012.000000</td>\n",
       "      <td>1.781221e+08</td>\n",
       "    </tr>\n",
       "    <tr>\n",
       "      <th>std</th>\n",
       "      <td>17243.318085</td>\n",
       "      <td>NaN</td>\n",
       "      <td>14.485352</td>\n",
       "      <td>7.305121e+06</td>\n",
       "      <td>0.031783</td>\n",
       "      <td>4.183615e+05</td>\n",
       "      <td>3.426077</td>\n",
       "      <td>1.124353</td>\n",
       "      <td>6.987248e+06</td>\n",
       "    </tr>\n",
       "  </tbody>\n",
       "</table>\n",
       "</div>"
      ],
      "text/plain": [
       "           order_id                     order_date  order_quantity  \\\n",
       "count   5499.000000                           5499     5499.000000   \n",
       "mean   29970.202219  2010-12-28 09:05:59.410801920       25.521549   \n",
       "min        3.000000            2009-01-01 00:00:00        1.000000   \n",
       "25%    15044.500000            2009-12-24 12:00:00       13.000000   \n",
       "50%    29927.000000            2010-12-21 00:00:00       26.000000   \n",
       "75%    44646.500000            2012-01-05 00:00:00       38.000000   \n",
       "max    59973.000000            2012-12-30 00:00:00       50.000000   \n",
       "std    17243.318085                            NaN       14.485352   \n",
       "\n",
       "              sales     discount  discount_value        month         year  \\\n",
       "count  5.499000e+03  5499.000000    5.499000e+03  5499.000000  5499.000000   \n",
       "mean   3.532838e+06     0.049915    1.735048e+05     6.514821  2010.492089   \n",
       "min    6.460000e+03     0.000000    0.000000e+00     1.000000  2009.000000   \n",
       "25%    2.826700e+05     0.020000    7.739000e+03     4.000000  2009.000000   \n",
       "50%    8.546400e+05     0.050000    3.191700e+04     7.000000  2010.000000   \n",
       "75%    3.298741e+06     0.080000    1.329000e+05     9.000000  2012.000000   \n",
       "max    1.781221e+08     0.170000    7.441778e+06    12.000000  2012.000000   \n",
       "std    7.305121e+06     0.031783    4.183615e+05     3.426077     1.124353   \n",
       "\n",
       "       total_revenue  \n",
       "count   5.499000e+03  \n",
       "mean    3.359333e+06  \n",
       "min     6.072000e+03  \n",
       "25%     2.700805e+05  \n",
       "50%     8.125920e+05  \n",
       "75%     3.126765e+06  \n",
       "max     1.781221e+08  \n",
       "std     6.987248e+06  "
      ]
     },
     "execution_count": 359,
     "metadata": {},
     "output_type": "execute_result"
    }
   ],
   "source": [
    "df_1.describe()"
   ]
  },
  {
   "cell_type": "code",
   "execution_count": 273,
   "id": "9e7d4c84-bc47-4975-801a-56c54b310674",
   "metadata": {},
   "outputs": [
    {
     "data": {
      "text/plain": [
       "0"
      ]
     },
     "execution_count": 273,
     "metadata": {},
     "output_type": "execute_result"
    }
   ],
   "source": [
    "#checking duplicates\n",
    "df_1.duplicated().sum()"
   ]
  },
  {
   "cell_type": "code",
   "execution_count": 274,
   "id": "ddfeca20-17e8-464f-aef2-868ef9b433d9",
   "metadata": {
    "scrolled": true
   },
   "outputs": [
    {
     "data": {
      "text/plain": [
       "order_id                0\n",
       "order_status            0\n",
       "customer                0\n",
       "order_date              0\n",
       "order_quantity          0\n",
       "sales                   0\n",
       "discount                0\n",
       "discount_value          0\n",
       "product_category        0\n",
       "product_sub_category    0\n",
       "dtype: int64"
      ]
     },
     "execution_count": 274,
     "metadata": {},
     "output_type": "execute_result"
    }
   ],
   "source": [
    "#checking for nulls\n",
    "df_1.isnull().sum()"
   ]
  },
  {
   "cell_type": "code",
   "execution_count": 275,
   "id": "31ff5b0b-641d-47f6-b3d0-f306c20528d0",
   "metadata": {},
   "outputs": [
    {
     "data": {
      "text/plain": [
       "array([' Order Finished  ', ' Order Returned  ', ' Order Cancelled '],\n",
       "      dtype=object)"
      ]
     },
     "execution_count": 275,
     "metadata": {},
     "output_type": "execute_result"
    }
   ],
   "source": [
    "#there are leading and trailing spaces...\n",
    "df_1['order_status'].unique()"
   ]
  },
  {
   "cell_type": "code",
   "execution_count": 276,
   "id": "23b5da13-7816-45b9-b33d-2ac4105b115e",
   "metadata": {},
   "outputs": [],
   "source": [
    "#removing the leading and trailing spaces for all object datatype columns\n",
    "df_1['order_status'] = df_1['order_status'].str.strip()\n",
    "df_1['customer'] = df_1['customer'].str.strip()\n",
    "df_1['product_category'] = df_1['product_category'].str.strip()\n",
    "df_1['product_sub_category'] = df_1['product_sub_category'].str.strip()"
   ]
  },
  {
   "cell_type": "markdown",
   "id": "96749472-a775-4bf9-addc-a5a853a3b9a0",
   "metadata": {},
   "source": [
    "## Order status"
   ]
  },
  {
   "cell_type": "code",
   "execution_count": 277,
   "id": "c9ef91d1-4e5a-4ba1-b851-4481e0eeeaf7",
   "metadata": {
    "scrolled": true
   },
   "outputs": [
    {
     "data": {
      "image/png": "[encoded data removed]",
      "text/plain": [
       "<Figure size 640x480 with 1 Axes>"
      ]
     },
     "metadata": {},
     "output_type": "display_data"
    }
   ],
   "source": [
    "plt.bar(order_counts.index,order_counts.values)\n",
    "plt.title('Count of Order Statuses')\n",
    "plt.xlabel('Order Status')\n",
    "plt.ylabel('Count');"
   ]
  },
  {
   "cell_type": "code",
   "execution_count": 278,
   "id": "bbb39e6c-320a-482a-96f9-cd3411d88c99",
   "metadata": {
    "scrolled": true
   },
   "outputs": [
    {
     "data": {
      "text/plain": [
       "order_status\n",
       "Order Finished     89.543553\n",
       "Order Returned     10.401891\n",
       "Order Cancelled     0.054555\n",
       "Name: count, dtype: float64"
      ]
     },
     "execution_count": 278,
     "metadata": {},
     "output_type": "execute_result"
    }
   ],
   "source": [
    "percentage_order = order_counts/df_1.shape[0]*100\n",
    "percentage_order"
   ]
  },
  {
   "cell_type": "code",
   "execution_count": 279,
   "id": "0c507b20-eeff-4a94-ac26-f95566f5fb80",
   "metadata": {
    "scrolled": true
   },
   "outputs": [
    {
     "data": {
      "image/png": "[encoded data removed]",
      "text/plain": [
       "<Figure size 640x480 with 1 Axes>"
      ]
     },
     "metadata": {},
     "output_type": "display_data"
    }
   ],
   "source": [
    "plt.bar(percentage_order.index,percentage_order.values)\n",
    "plt.title('Percentage of Order Statuses')\n",
    "plt.xlabel('')\n",
    "plt.ylabel('Percentage');"
   ]
  },
  {
   "cell_type": "markdown",
   "id": "b83eb265-d083-4ff2-88b4-9e9ff223a0ed",
   "metadata": {},
   "source": [
    "## Product catergory"
   ]
  },
  {
   "cell_type": "code",
   "execution_count": 280,
   "id": "18e3f951-89eb-461b-9b64-bef1fb65604a",
   "metadata": {},
   "outputs": [
    {
     "data": {
      "text/plain": [
       "product_category\n",
       "Office Supplies    3066\n",
       "Technology         1280\n",
       "Furniture          1153\n",
       "Name: count, dtype: int64"
      ]
     },
     "execution_count": 280,
     "metadata": {},
     "output_type": "execute_result"
    }
   ],
   "source": [
    "catergory_counts = df_1['product_category'].value_counts()\n",
    "catergory_counts"
   ]
  },
  {
   "cell_type": "code",
   "execution_count": 281,
   "id": "2ad91e18-e56d-4515-86ae-e1bc1faf5177",
   "metadata": {
    "scrolled": true
   },
   "outputs": [
    {
     "data": {
      "image/png": "[encoded data removed]",
      "text/plain": [
       "<Figure size 640x480 with 1 Axes>"
      ]
     },
     "metadata": {},
     "output_type": "display_data"
    }
   ],
   "source": [
    "plt.bar(catergory_counts.index, catergory_counts.values)\n",
    "plt.title('Count of Product Catergory')\n",
    "plt.xlabel('Product Catergory')\n",
    "plt.ylabel('Counts');"
   ]
  },
  {
   "cell_type": "code",
   "execution_count": 282,
   "id": "7bb7f920-d113-4ca1-ae42-de1ab8ad76ef",
   "metadata": {},
   "outputs": [
    {
     "data": {
      "text/plain": [
       "product_category\n",
       "Office Supplies    55.755592\n",
       "Technology         23.276959\n",
       "Furniture          20.967449\n",
       "Name: count, dtype: float64"
      ]
     },
     "execution_count": 282,
     "metadata": {},
     "output_type": "execute_result"
    }
   ],
   "source": [
    "percentage_catergory = catergory_counts/df_1.shape[0]*100\n",
    "percentage_catergory"
   ]
  },
  {
   "cell_type": "code",
   "execution_count": 283,
   "id": "09377d59-6310-4d73-a9df-193945719042",
   "metadata": {
    "scrolled": true
   },
   "outputs": [
    {
     "data": {
      "image/png": "[encoded data removed]",
      "text/plain": [
       "<Figure size 640x480 with 1 Axes>"
      ]
     },
     "metadata": {},
     "output_type": "display_data"
    }
   ],
   "source": [
    "plt.bar(percentage_catergory.index,percentage_catergory.values)\n",
    "plt.title('Percentage of Product Catergory')\n",
    "plt.xlabel('')\n",
    "plt.ylabel('Percentage');"
   ]
  },
  {
   "cell_type": "markdown",
   "id": "ad8e451e-19ac-4037-9172-a181522731eb",
   "metadata": {},
   "source": [
    "## Product sub-catergory"
   ]
  },
  {
   "cell_type": "code",
   "execution_count": 284,
   "id": "35da0ec6-8e2d-4579-9c48-c05175b2eb89",
   "metadata": {
    "scrolled": true
   },
   "outputs": [
    {
     "data": {
      "text/plain": [
       "product_sub_category\n",
       "Binders and Binder Accessories    768\n",
       "Paper                             736\n",
       "Computer Peripherals              561\n",
       "Office Furnishings                530\n",
       "Telephones and Communication      429\n",
       "Appliances                        375\n",
       "Pens & Art Supplies               359\n",
       "Chairs & Chairmats                301\n",
       "Storage & Organization            276\n",
       "Office Machines                   234\n",
       "Labels                            206\n",
       "Tables                            180\n",
       "Envelopes                         174\n",
       "Bookcases                         142\n",
       "Rubber Bands                       97\n",
       "Scissors, Rulers and Trimmers      75\n",
       "Copiers and Fax                    56\n",
       "Name: count, dtype: int64"
      ]
     },
     "execution_count": 284,
     "metadata": {},
     "output_type": "execute_result"
    }
   ],
   "source": [
    "sub_counts = df_1['product_sub_category'].value_counts()\n",
    "sub_counts"
   ]
  },
  {
   "cell_type": "code",
   "execution_count": 357,
   "id": "cf151365-e42e-4155-8c96-37b04c3f9a8f",
   "metadata": {
    "scrolled": true
   },
   "outputs": [
    {
     "data": {
      "image/png": "[encoded data removed]",
      "text/plain": [
       "<Figure size 640x480 with 1 Axes>"
      ]
     },
     "metadata": {},
     "output_type": "display_data"
    }
   ],
   "source": [
    "plt.bar(sub_counts.index, sub_counts.values)\n",
    "plt.title('Count of Sub_Catergories')\n",
    "plt.xlabel('Product Sub_Catergory')\n",
    "plt.ylabel('Counts')\n",
    "plt.xticks(rotation=90);"
   ]
  },
  {
   "cell_type": "code",
   "execution_count": 286,
   "id": "f4a01b76-eeb7-4b72-848f-6026ac99f1c2",
   "metadata": {
    "scrolled": true
   },
   "outputs": [
    {
     "data": {
      "text/plain": [
       "product_sub_category\n",
       "Binders and Binder Accessories    13.966176\n",
       "Paper                             13.384252\n",
       "Computer Peripherals              10.201855\n",
       "Office Furnishings                 9.638116\n",
       "Telephones and Communication       7.801418\n",
       "Appliances                         6.819422\n",
       "Pens & Art Supplies                6.528460\n",
       "Chairs & Chairmats                 5.473722\n",
       "Storage & Organization             5.019094\n",
       "Office Machines                    4.255319\n",
       "Labels                             3.746136\n",
       "Tables                             3.273322\n",
       "Envelopes                          3.164212\n",
       "Bookcases                          2.582288\n",
       "Rubber Bands                       1.763957\n",
       "Scissors, Rulers and Trimmers      1.363884\n",
       "Copiers and Fax                    1.018367\n",
       "Name: count, dtype: float64"
      ]
     },
     "execution_count": 286,
     "metadata": {},
     "output_type": "execute_result"
    }
   ],
   "source": [
    "percentage_sub = sub_counts/df_1.shape[0]*100\n",
    "percentage_sub"
   ]
  },
  {
   "cell_type": "code",
   "execution_count": 358,
   "id": "0b41671b-dc45-4262-87ce-6f44bf55f073",
   "metadata": {},
   "outputs": [
    {
     "data": {
      "image/png": "[encoded data removed]",
      "text/plain": [
       "<Figure size 640x480 with 1 Axes>"
      ]
     },
     "metadata": {},
     "output_type": "display_data"
    }
   ],
   "source": [
    "plt.bar(percentage_sub.index,percentage_sub.values)\n",
    "plt.title('Percentage of Product Sub_Catergory')\n",
    "plt.xlabel('')\n",
    "plt.ylabel('Percentage')\n",
    "plt.xticks(rotation=90);"
   ]
  },
  {
   "cell_type": "code",
   "execution_count": 288,
   "id": "02e7169b-07cc-4281-936f-5bb0c46412a1",
   "metadata": {},
   "outputs": [
    {
     "data": {
      "image/png": "[encoded data removed]",
      "text/plain": [
       "<Figure size 640x480 with 1 Axes>"
      ]
     },
     "metadata": {},
     "output_type": "display_data"
    }
   ],
   "source": [
    "sns.countplot(data=df_1, x='product_sub_category', hue='product_category', order=sub_counts.index, palette='tab10')\n",
    "plt.xticks(rotation=90)\n",
    "plt.title('Visualization of Product Sub-Categories by Category')\n",
    "plt.xlabel('Product Sub-Category')\n",
    "plt.ylabel('Count');"
   ]
  },
  {
   "cell_type": "markdown",
   "id": "f8b61088-8833-44a5-9420-f0e5d4b4e143",
   "metadata": {},
   "source": [
    "## Top 5 customer with the most sales"
   ]
  },
  {
   "cell_type": "code",
   "execution_count": 289,
   "id": "465a8139-4099-4c5b-9991-ba3f73aafca7",
   "metadata": {
    "scrolled": true
   },
   "outputs": [
    {
     "data": {
      "text/plain": [
       "customer\n",
       "Emily Phan                220589920\n",
       "Christina Vanderzanden    186631624\n",
       "Deborah Brumfield         182192930\n",
       "Grant Carroll             170382287\n",
       "Sylvia Foulston           156170673\n",
       "Name: sales, dtype: int64"
      ]
     },
     "execution_count": 289,
     "metadata": {},
     "output_type": "execute_result"
    }
   ],
   "source": [
    "top_customer = df_1.groupby('customer')['sales'].sum().sort_values(ascending=False).head()\n",
    "top_customer"
   ]
  },
  {
   "cell_type": "markdown",
   "id": "bfbc10e1-ee49-4150-a745-e4da7d32948c",
   "metadata": {},
   "source": [
    "## March had the most sales across all years (2009-2012)"
   ]
  },
  {
   "cell_type": "code",
   "execution_count": 290,
   "id": "acf5255f-6610-441a-9b2b-f4a4ed4aecf8",
   "metadata": {
    "scrolled": true
   },
   "outputs": [
    {
     "name": "stderr",
     "output_type": "stream",
     "text": [
      "/var/folders/jw/yykmt8wj3s91vs7p5ss2kcr80000gn/T/ipykernel_80566/616824797.py:8: FutureWarning: \n",
      "\n",
      "Passing `palette` without assigning `hue` is deprecated and will be removed in v0.14.0. Assign the `x` variable to `hue` and set `legend=False` for the same effect.\n",
      "\n",
      "  sns.barplot(data=monthly_sales, x='month', y='sales', palette='viridis')\n"
     ]
    },
    {
     "data": {
      "image/png": "[encoded data removed]",
      "text/plain": [
       "<Figure size 640x480 with 1 Axes>"
      ]
     },
     "metadata": {},
     "output_type": "display_data"
    }
   ],
   "source": [
    "df_1['month'] = df_1['order_date'].dt.month\n",
    "df_1['year'] = df_1['order_date'].dt.year\n",
    "\n",
    "monthly_sales = df_1.groupby('month')['sales'].sum().reset_index()\n",
    "\n",
    "sns.barplot(data=monthly_sales, x='month', y='sales', palette='viridis')\n",
    "plt.title('Total Sales by Month (Across All Years)')\n",
    "plt.xlabel('Month')\n",
    "plt.ylabel('Total Sales');\n",
    "#plt.xticks(ticks=range(12), labels=[\n",
    "    #'Jan', 'Feb', 'Mar', 'Apr', 'May', 'Jun', \n",
    "    #'Jul', 'Aug', 'Sep', 'Oct', 'Nov', 'Dec'\n",
    "#])"
   ]
  },
  {
   "cell_type": "markdown",
   "id": "49afae19-402c-4e12-830c-eab4debfa1ad",
   "metadata": {},
   "source": [
    "## Year 2009 had the most total sales"
   ]
  },
  {
   "cell_type": "code",
   "execution_count": 291,
   "id": "6f17939b-95c2-4fd7-aea2-8148bb7674a4",
   "metadata": {},
   "outputs": [
    {
     "name": "stderr",
     "output_type": "stream",
     "text": [
      "/var/folders/jw/yykmt8wj3s91vs7p5ss2kcr80000gn/T/ipykernel_80566/367170265.py:3: FutureWarning: \n",
      "\n",
      "Passing `palette` without assigning `hue` is deprecated and will be removed in v0.14.0. Assign the `x` variable to `hue` and set `legend=False` for the same effect.\n",
      "\n",
      "  sns.barplot(data=yearly_sales, x='year', y='sales', palette='viridis')\n"
     ]
    },
    {
     "data": {
      "image/png": "[encoded data removed]",
      "text/plain": [
       "<Figure size 1000x600 with 1 Axes>"
      ]
     },
     "metadata": {},
     "output_type": "display_data"
    }
   ],
   "source": [
    "yearly_sales = df_1.groupby('year')['sales'].sum().reset_index()\n",
    "plt.figure(figsize=(10, 6))\n",
    "sns.barplot(data=yearly_sales, x='year', y='sales', palette='viridis')\n",
    "\n",
    "plt.title('Total Sales by Year')\n",
    "plt.xlabel('Year')\n",
    "plt.ylabel('Total Sales');"
   ]
  },
  {
   "cell_type": "markdown",
   "id": "ec663da3-37c1-4396-9a34-d48f7a7fdb65",
   "metadata": {},
   "source": [
    "## Total sales = $19,427,074,751"
   ]
  },
  {
   "cell_type": "code",
   "execution_count": 292,
   "id": "544cc900-4e12-41db-b9b9-790e96c530f8",
   "metadata": {},
   "outputs": [
    {
     "data": {
      "text/plain": [
       "19427074751"
      ]
     },
     "execution_count": 292,
     "metadata": {},
     "output_type": "execute_result"
    }
   ],
   "source": [
    "total_sales = df_1['sales'].sum()\n",
    "total_sales"
   ]
  },
  {
   "cell_type": "markdown",
   "id": "c2dcf9d8-3e0a-4a73-a4aa-569a3f0e1ead",
   "metadata": {},
   "source": [
    "## Highest discount is 17%"
   ]
  },
  {
   "cell_type": "code",
   "execution_count": 293,
   "id": "0c8cb2da-af37-49f6-9c66-b6d76d4f3ab7",
   "metadata": {},
   "outputs": [
    {
     "data": {
      "text/plain": [
       "918     0.17\n",
       "962     0.16\n",
       "878     0.11\n",
       "5498    0.10\n",
       "3948    0.10\n",
       "Name: discount, dtype: float64"
      ]
     },
     "execution_count": 293,
     "metadata": {},
     "output_type": "execute_result"
    }
   ],
   "source": [
    "df_1['discount'].sort_values(ascending=False).head()"
   ]
  },
  {
   "cell_type": "markdown",
   "id": "44544142-818f-4f96-97e3-73928bba55af",
   "metadata": {},
   "source": [
    "## Total number of orders"
   ]
  },
  {
   "cell_type": "code",
   "execution_count": 319,
   "id": "c6b53562-fcb5-4e0c-9d01-0781fd2bc094",
   "metadata": {},
   "outputs": [
    {
     "data": {
      "text/plain": [
       "5499"
      ]
     },
     "execution_count": 319,
     "metadata": {},
     "output_type": "execute_result"
    }
   ],
   "source": [
    "total_orders = df_1['order_id'].count()\n",
    "total_orders"
   ]
  },
  {
   "cell_type": "markdown",
   "id": "50e86c2e-7e24-4d1b-96ca-dd584bdaa337",
   "metadata": {},
   "source": [
    "## Average order amount"
   ]
  },
  {
   "cell_type": "code",
   "execution_count": 296,
   "id": "487131ec-4c54-46ed-be99-876f307e1187",
   "metadata": {},
   "outputs": [
    {
     "data": {
      "text/plain": [
       "3532837.7434078925"
      ]
     },
     "execution_count": 296,
     "metadata": {},
     "output_type": "execute_result"
    }
   ],
   "source": [
    "df_1['sales'].mean()"
   ]
  },
  {
   "cell_type": "markdown",
   "id": "bb1bac2a-f38d-471d-927d-c168015365d2",
   "metadata": {},
   "source": [
    "## Total discount amount"
   ]
  },
  {
   "cell_type": "code",
   "execution_count": 297,
   "id": "88cbd503-9ce6-4fa6-b20c-36e2e35464c7",
   "metadata": {},
   "outputs": [
    {
     "data": {
      "text/plain": [
       "954102735"
      ]
     },
     "execution_count": 297,
     "metadata": {},
     "output_type": "execute_result"
    }
   ],
   "source": [
    "discount = df_1['discount_value'].sum()\n",
    "discount"
   ]
  },
  {
   "cell_type": "markdown",
   "id": "4bf84691-5c38-4d0d-8ab1-8c76a8147d2a",
   "metadata": {},
   "source": [
    "## Average discount value"
   ]
  },
  {
   "cell_type": "code",
   "execution_count": 298,
   "id": "8a7f0427-38f1-416f-9ef0-4ea801a5d11f",
   "metadata": {},
   "outputs": [
    {
     "data": {
      "text/plain": [
       "173504.77086743043"
      ]
     },
     "execution_count": 298,
     "metadata": {},
     "output_type": "execute_result"
    }
   ],
   "source": [
    "df_1['discount_value'].mean()"
   ]
  },
  {
   "cell_type": "markdown",
   "id": "bdb9b71f-b5c3-4384-a8b7-acb1650c6a90",
   "metadata": {},
   "source": [
    "## Revenue = sales - discount"
   ]
  },
  {
   "cell_type": "code",
   "execution_count": 299,
   "id": "a58d424f-e44a-4741-975e-72da80c20410",
   "metadata": {},
   "outputs": [
    {
     "data": {
      "text/plain": [
       "18472972016"
      ]
     },
     "execution_count": 299,
     "metadata": {},
     "output_type": "execute_result"
    }
   ],
   "source": [
    "revenue = total_sales - discount\n",
    "revenue"
   ]
  },
  {
   "cell_type": "markdown",
   "id": "f60ae48f-1839-44c9-8340-82152b4d8b5a",
   "metadata": {},
   "source": [
    "## Sales by Product Category"
   ]
  },
  {
   "cell_type": "code",
   "execution_count": 300,
   "id": "5ed277a2-b32d-43ff-aa90-bd2b95c3d4a4",
   "metadata": {},
   "outputs": [
    {
     "data": {
      "text/plain": [
       "product_category\n",
       "Technology         7422758843\n",
       "Furniture          6655751588\n",
       "Office Supplies    5348564320\n",
       "Name: sales, dtype: int64"
      ]
     },
     "execution_count": 300,
     "metadata": {},
     "output_type": "execute_result"
    }
   ],
   "source": [
    "df_1.groupby('product_category')['sales'].sum().sort_values(ascending=False)"
   ]
  },
  {
   "cell_type": "markdown",
   "id": "b54472e2-039d-49e5-81a4-3da92151c315",
   "metadata": {},
   "source": [
    "## Sales by Product Category"
   ]
  },
  {
   "cell_type": "code",
   "execution_count": 301,
   "id": "4431952e-475d-4b45-8f4f-b8d8f13cd2fc",
   "metadata": {},
   "outputs": [
    {
     "data": {
      "text/plain": [
       "product_sub_category\n",
       "Office Machines                   2992042700\n",
       "Chairs & Chairmats                2796723780\n",
       "Tables                            1823721028\n",
       "Telephones and Communication      1759096403\n",
       "Binders and Binder Accessories    1684448160\n",
       "Copiers and Fax                   1469965760\n",
       "Storage & Organization            1317117740\n",
       "Appliances                        1238552900\n",
       "Computer Peripherals              1201653980\n",
       "Bookcases                         1148115720\n",
       "Office Furnishings                 887191060\n",
       "Paper                              515461960\n",
       "Envelopes                          242269680\n",
       "Pens & Art Supplies                196486220\n",
       "Scissors, Rulers and Trimmers       83269460\n",
       "Labels                              54624320\n",
       "Rubber Bands                        16333880\n",
       "Name: sales, dtype: int64"
      ]
     },
     "execution_count": 301,
     "metadata": {},
     "output_type": "execute_result"
    }
   ],
   "source": [
    "df_1.groupby('product_sub_category')['sales'].sum().sort_values(ascending=False)"
   ]
  },
  {
   "cell_type": "markdown",
   "id": "ee3048e4-2c37-4a23-b1ae-85a8883cda03",
   "metadata": {},
   "source": [
    "## Order quanity by product category"
   ]
  },
  {
   "cell_type": "code",
   "execution_count": 303,
   "id": "72707978-cd40-4ffd-80f5-55eb9b606e38",
   "metadata": {},
   "outputs": [
    {
     "data": {
      "text/plain": [
       "product_category\n",
       "Office Supplies    78422\n",
       "Technology         32611\n",
       "Furniture          29310\n",
       "Name: order_quantity, dtype: int64"
      ]
     },
     "execution_count": 303,
     "metadata": {},
     "output_type": "execute_result"
    }
   ],
   "source": [
    "df_1.groupby('product_category')['order_quantity'].sum().sort_values(ascending=False)"
   ]
  },
  {
   "cell_type": "markdown",
   "id": "6a98c11f-7b2c-43ef-9a20-14456b3774dd",
   "metadata": {},
   "source": [
    "## Order quanity by product sub-category"
   ]
  },
  {
   "cell_type": "code",
   "execution_count": 304,
   "id": "31209469-c189-41c1-bd1f-ba6372e45c6b",
   "metadata": {},
   "outputs": [
    {
     "data": {
      "text/plain": [
       "product_sub_category\n",
       "Binders and Binder Accessories    19466\n",
       "Paper                             18340\n",
       "Computer Peripherals              14269\n",
       "Office Furnishings                13687\n",
       "Telephones and Communication      11395\n",
       "Pens & Art Supplies                9681\n",
       "Appliances                         9308\n",
       "Chairs & Chairmats                 7568\n",
       "Storage & Organization             7030\n",
       "Office Machines                    5484\n",
       "Labels                             5179\n",
       "Envelopes                          4620\n",
       "Tables                             4433\n",
       "Bookcases                          3622\n",
       "Rubber Bands                       2682\n",
       "Scissors, Rulers and Trimmers      2116\n",
       "Copiers and Fax                    1463\n",
       "Name: order_quantity, dtype: int64"
      ]
     },
     "execution_count": 304,
     "metadata": {},
     "output_type": "execute_result"
    }
   ],
   "source": [
    "df_1.groupby('product_sub_category')['order_quantity'].sum().sort_values(ascending=False)"
   ]
  },
  {
   "cell_type": "markdown",
   "id": "3a8469ec-eb49-4b46-abfd-c480eeb3bb22",
   "metadata": {},
   "source": [
    "## Order status"
   ]
  },
  {
   "cell_type": "code",
   "execution_count": 305,
   "id": "dffb6e06-e02b-4b63-8c65-ec83e8cd74ae",
   "metadata": {},
   "outputs": [
    {
     "data": {
      "text/plain": [
       "order_status\n",
       "Order Finished     4924\n",
       "Order Returned      572\n",
       "Order Cancelled       3\n",
       "Name: count, dtype: int64"
      ]
     },
     "execution_count": 305,
     "metadata": {},
     "output_type": "execute_result"
    }
   ],
   "source": [
    "df_1['order_status'].value_counts()"
   ]
  },
  {
   "cell_type": "markdown",
   "id": "f9f2edd6-291c-478f-96e9-4eb728e35a20",
   "metadata": {},
   "source": [
    "## Total sales by month"
   ]
  },
  {
   "cell_type": "code",
   "execution_count": 307,
   "id": "b7bb7173-7b17-491a-918e-0d6370956e74",
   "metadata": {},
   "outputs": [
    {
     "data": {
      "text/plain": [
       "month\n",
       "1     1782068853\n",
       "2     1664400513\n",
       "3     1939128117\n",
       "4     1524384925\n",
       "5     1549452537\n",
       "6     1322027913\n",
       "7     1490649422\n",
       "8     1548486326\n",
       "9     1660224131\n",
       "10    1629951220\n",
       "11    1577706337\n",
       "12    1738594457\n",
       "Name: sales, dtype: int64"
      ]
     },
     "execution_count": 307,
     "metadata": {},
     "output_type": "execute_result"
    }
   ],
   "source": [
    "df_1.groupby('month')['sales'].sum()"
   ]
  },
  {
   "cell_type": "markdown",
   "id": "a66a4505-d033-4c32-840c-1f71053ede47",
   "metadata": {},
   "source": [
    "## Total sales by year"
   ]
  },
  {
   "cell_type": "code",
   "execution_count": 308,
   "id": "a0c26b05-ed44-4936-bc76-b9a70bf0f5d0",
   "metadata": {},
   "outputs": [
    {
     "data": {
      "text/plain": [
       "year\n",
       "2009    5251708895\n",
       "2010    4535204888\n",
       "2011    4568206579\n",
       "2012    5071954389\n",
       "Name: sales, dtype: int64"
      ]
     },
     "execution_count": 308,
     "metadata": {},
     "output_type": "execute_result"
    }
   ],
   "source": [
    "df_1.groupby('year')['sales'].sum()"
   ]
  },
  {
   "cell_type": "code",
   "execution_count": 310,
   "id": "5f453452-f2df-4c7a-a2dd-6b1607736ade",
   "metadata": {},
   "outputs": [
    {
     "name": "stdout",
     "output_type": "stream",
     "text": [
      "<class 'pandas.core.frame.DataFrame'>\n",
      "RangeIndex: 5499 entries, 0 to 5498\n",
      "Data columns (total 12 columns):\n",
      " #   Column                Non-Null Count  Dtype         \n",
      "---  ------                --------------  -----         \n",
      " 0   order_id              5499 non-null   int64         \n",
      " 1   order_status          5499 non-null   object        \n",
      " 2   customer              5499 non-null   object        \n",
      " 3   order_date            5499 non-null   datetime64[ns]\n",
      " 4   order_quantity        5499 non-null   int64         \n",
      " 5   sales                 5499 non-null   int64         \n",
      " 6   discount              5499 non-null   float64       \n",
      " 7   discount_value        5499 non-null   int64         \n",
      " 8   product_category      5499 non-null   object        \n",
      " 9   product_sub_category  5499 non-null   object        \n",
      " 10  month                 5499 non-null   int32         \n",
      " 11  year                  5499 non-null   int32         \n",
      "dtypes: datetime64[ns](1), float64(1), int32(2), int64(4), object(4)\n",
      "memory usage: 472.7+ KB\n"
     ]
    }
   ],
   "source": [
    "df_1.info()"
   ]
  },
  {
   "cell_type": "markdown",
   "id": "7b28fc51-07bc-4155-ace9-e7ac66c8769c",
   "metadata": {},
   "source": [
    "## Repeat buyers/rentention rate"
   ]
  },
  {
   "cell_type": "code",
   "execution_count": 333,
   "id": "523d2d98-b67b-45c1-92dd-c18e56b04535",
   "metadata": {},
   "outputs": [
    {
     "data": {
      "text/plain": [
       "customer\n",
       "Bill Donatelli            39\n",
       "Maria Bertelson           33\n",
       "Darren Budd               26\n",
       "Brad Thomas               24\n",
       "Christina Vanderzanden    22\n",
       "                          ..\n",
       "Sample Company A           1\n",
       "Maria Etezadi              1\n",
       "Andrew Roberts             1\n",
       "Grace Kelly                1\n",
       "Bruce Money                1\n",
       "Name: count, Length: 777, dtype: int64"
      ]
     },
     "execution_count": 333,
     "metadata": {},
     "output_type": "execute_result"
    }
   ],
   "source": [
    "num_customers = df_1['customer'].value_counts()\n",
    "num_customers"
   ]
  },
  {
   "cell_type": "code",
   "execution_count": 339,
   "id": "dc131ec4-33f6-489a-8e4f-b84397e8f5b0",
   "metadata": {},
   "outputs": [
    {
     "data": {
      "text/plain": [
       "762"
      ]
     },
     "execution_count": 339,
     "metadata": {},
     "output_type": "execute_result"
    }
   ],
   "source": [
    "repeat_orders = num_customers[num_customers>1].count()\n",
    "repeat_orders"
   ]
  },
  {
   "cell_type": "code",
   "execution_count": 345,
   "id": "edbd8b31-7e60-4fdd-81c6-66dac3ca21e2",
   "metadata": {},
   "outputs": [
    {
     "data": {
      "text/plain": [
       "777"
      ]
     },
     "execution_count": 345,
     "metadata": {},
     "output_type": "execute_result"
    }
   ],
   "source": [
    "total = num_customers.count()\n",
    "total"
   ]
  },
  {
   "cell_type": "code",
   "execution_count": 346,
   "id": "1dcb72a6-b1de-4682-81e3-ceb439909794",
   "metadata": {},
   "outputs": [
    {
     "data": {
      "text/plain": [
       "98.06949806949807"
      ]
     },
     "execution_count": 346,
     "metadata": {},
     "output_type": "execute_result"
    }
   ],
   "source": [
    "repeat = repeat_orders/total*100\n",
    "repeat"
   ]
  }
 ],
 "metadata": {
  "kernelspec": {
   "display_name": "Python 3 (ipykernel)",
   "language": "python",
   "name": "python3"
  },
  "language_info": {
   "codemirror_mode": {
    "name": "ipython",
    "version": 3
   },
   "file_extension": ".py",
   "mimetype": "text/x-python",
   "name": "python",
   "nbconvert_exporter": "python",
   "pygments_lexer": "ipython3",
   "version": "3.11.4"
  }
 },
 "nbformat": 4,
 "nbformat_minor": 5
}
